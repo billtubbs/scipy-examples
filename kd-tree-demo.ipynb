{
 "cells": [
  {
   "cell_type": "markdown",
   "metadata": {},
   "source": [
    "# K-D Tree Example\n",
    "\n",
    "K-D Trees are useful for efficiently finding nearest neighbour points in n-dimensional space.\n",
    "\n",
    "Documentation on `scipy.spatial.KDTree` is [here](https://docs.scipy.org/doc/scipy-0.14.0/reference/generated/scipy.spatial.KDTree.html)."
   ]
  },
  {
   "cell_type": "code",
   "execution_count": 47,
   "metadata": {},
   "outputs": [],
   "source": [
    "import pandas as pd\n",
    "import matplotlib.pyplot as plt\n",
    "from scipy import spatial\n",
    "\n",
    "%matplotlib inline"
   ]
  },
  {
   "cell_type": "code",
   "execution_count": 133,
   "metadata": {},
   "outputs": [
    {
     "data": {
      "text/html": [
       "<div>\n",
       "<style scoped>\n",
       "    .dataframe tbody tr th:only-of-type {\n",
       "        vertical-align: middle;\n",
       "    }\n",
       "\n",
       "    .dataframe tbody tr th {\n",
       "        vertical-align: top;\n",
       "    }\n",
       "\n",
       "    .dataframe thead th {\n",
       "        text-align: right;\n",
       "    }\n",
       "</style>\n",
       "<table border=\"1\" class=\"dataframe\">\n",
       "  <thead>\n",
       "    <tr style=\"text-align: right;\">\n",
       "      <th></th>\n",
       "      <th>x</th>\n",
       "      <th>y</th>\n",
       "    </tr>\n",
       "  </thead>\n",
       "  <tbody>\n",
       "    <tr>\n",
       "      <th>0</th>\n",
       "      <td>-50</td>\n",
       "      <td>30</td>\n",
       "    </tr>\n",
       "    <tr>\n",
       "      <th>1</th>\n",
       "      <td>70</td>\n",
       "      <td>-68</td>\n",
       "    </tr>\n",
       "    <tr>\n",
       "      <th>2</th>\n",
       "      <td>10</td>\n",
       "      <td>50</td>\n",
       "    </tr>\n",
       "  </tbody>\n",
       "</table>\n",
       "</div>"
      ],
      "text/plain": [
       "    x   y\n",
       "0 -50  30\n",
       "1  70 -68\n",
       "2  10  50"
      ]
     },
     "execution_count": 133,
     "metadata": {},
     "output_type": "execute_result"
    }
   ],
   "source": [
    "# Create some points in 2-dimensions\n",
    "data = [{'x': -50, 'y': 30}, \n",
    "        {'x': 70, 'y': -68},\n",
    "        {'x': 10, 'y': 50}]\n",
    "coords = pd.DataFrame(data)\n",
    "coords"
   ]
  },
  {
   "cell_type": "code",
   "execution_count": 139,
   "metadata": {},
   "outputs": [
    {
     "data": {
      "text/plain": [
       "(2, 50.99019513592785)"
      ]
     },
     "execution_count": 139,
     "metadata": {},
     "output_type": "execute_result"
    }
   ],
   "source": [
    "# Build k-d tree\n",
    "tree = spatial.KDTree(coords)\n",
    "\n",
    "# Find the nearest neighbour to one point\n",
    "one_pt = (0, 0)\n",
    "distance, pt_id = tree.query(one_pt)\n",
    "pt_id, distance"
   ]
  },
  {
   "cell_type": "code",
   "execution_count": 136,
   "metadata": {},
   "outputs": [
    {
     "data": {
      "text/plain": [
       "[(0, 139.2838827718412),\n",
       " (0, 107.93516572461452),\n",
       " (0, 80.0),\n",
       " (0, 60.41522986797286),\n",
       " (2, 50.99019513592785),\n",
       " (2, 29.154759474226502),\n",
       " (2, 40.0),\n",
       " (2, 69.6419413859206),\n",
       " (2, 102.95630140987001)]"
      ]
     },
     "execution_count": 136,
     "metadata": {},
     "output_type": "execute_result"
    }
   ],
   "source": [
    "# Find the nearest neighbour to a series of points\n",
    "some_pts = [(x, x) for x in range(-100, 101, 25)]\n",
    "neighb_distances, neighb_ids = tree.query(some_pts, k=1)\n",
    "list(zip(neighb_ids, neighb_distances))"
   ]
  },
  {
   "cell_type": "code",
   "execution_count": 137,
   "metadata": {},
   "outputs": [
    {
     "data": {
      "image/png": "[encoded data removed]",
      "text/plain": [
       "<Figure size 396x360 with 1 Axes>"
      ]
     },
     "metadata": {
      "needs_background": "light"
     },
     "output_type": "display_data"
    }
   ],
   "source": [
    "# Visualize the results\n",
    "plt.figure(figsize=(5.5, 5))\n",
    "\n",
    "# Data points\n",
    "plt.plot(coords['x'], coords['y'], 'o', label='Data')\n",
    "\n",
    "# Test points\n",
    "x = [p[0] for p in some_pts]\n",
    "y = [p[1] for p in some_pts]\n",
    "plt.plot(x, y, '-o', label='Test points')\n",
    "\n",
    "# Add lines to nearest neighbours\n",
    "for pt, neighb in zip(some_pts, neighb_ids):\n",
    "    \n",
    "    neighb_pt = (coords.loc[neighb, 'x'], coords.loc[neighb, 'y'])\n",
    "    x = [pt[0], coords.loc[neighb, 'x']]\n",
    "    y = [pt[1], coords.loc[neighb, 'y']]\n",
    "    plt.plot(x, y, \"r--\")\n",
    "\n",
    "plt.grid()\n",
    "plt.legend()\n",
    "plt.show()"
   ]
  },
  {
   "cell_type": "code",
   "execution_count": null,
   "metadata": {},
   "outputs": [],
   "source": []
  },
  {
   "cell_type": "code",
   "execution_count": null,
   "metadata": {},
   "outputs": [],
   "source": []
  },
  {
   "cell_type": "code",
   "execution_count": null,
   "metadata": {},
   "outputs": [],
   "source": []
  },
  {
   "cell_type": "code",
   "execution_count": null,
   "metadata": {},
   "outputs": [],
   "source": []
  }
 ],
 "metadata": {
  "kernelspec": {
   "display_name": "Python 3",
   "language": "python",
   "name": "python3"
  },
  "language_info": {
   "codemirror_mode": {
    "name": "ipython",
    "version": 3
   },
   "file_extension": ".py",
   "mimetype": "text/x-python",
   "name": "python",
   "nbconvert_exporter": "python",
   "pygments_lexer": "ipython3",
   "version": "3.6.7"
  }
 },
 "nbformat": 4,
 "nbformat_minor": 2
}
